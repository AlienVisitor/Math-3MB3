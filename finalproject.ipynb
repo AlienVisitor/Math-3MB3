{
 "cells": [
  {
   "cell_type": "markdown",
   "metadata": {},
   "source": [
    "# Bobcat Population Analysis"
   ]
  },
  {
   "cell_type": "code",
   "execution_count": 200,
   "metadata": {},
   "outputs": [],
   "source": [
    "# Imports\n",
    "import numpy as np\n",
    "import pandas as pd\n",
    "import seaborn as sns\n",
    "import matplotlib.pyplot as plt\n",
    "import numpy.linalg as linalg\n",
    "from numpy import random as rd\n",
    "\n",
    "# Base variables and functions\n",
    "identity_matrix = np.identity(16)\n",
    "default_t0_population = np.array([10, 10, 10, 10, 10, 10, 10, 10, 10, 10, 10, 10, 10, 10, 10, 10])\n",
    "default_number_of_years = 32"
   ]
  },
  {
   "cell_type": "markdown",
   "metadata": {},
   "source": [
    "## Base Model"
   ]
  },
  {
   "cell_type": "markdown",
   "metadata": {},
   "source": [
    "### Ex-situ Model"
   ]
  },
  {
   "cell_type": "code",
   "execution_count": 201,
   "metadata": {},
   "outputs": [
    {
     "name": "stdout",
     "output_type": "stream",
     "text": [
      "    Population  Year\n",
      "0   160.000000     0\n",
      "1   220.400000     1\n",
      "2   207.508000     2\n",
      "3   171.014240     3\n",
      "4   148.864067     4\n",
      "5   132.077399     5\n",
      "6   116.595072     6\n",
      "7   102.928307     7\n",
      "8    91.022414     8\n",
      "9    80.534675     9\n",
      "10   71.263123    10\n",
      "11   63.067398    11\n",
      "12   55.819382    12\n",
      "13   49.406421    13\n",
      "14   43.731212    14\n",
      "15   38.708517    15\n",
      "16   34.263017    16\n",
      "17   30.326920    17\n",
      "18   26.842340    18\n",
      "19   23.758182    19\n",
      "20   21.028563    20\n",
      "21   18.612563    21\n",
      "22   16.474120    22\n",
      "23   14.581371    23\n",
      "24   12.906089    24\n",
      "25   11.423283    25\n",
      "26   10.110839    26\n",
      "27    8.949185    27\n",
      "28    7.920996    28\n",
      "29    7.010937    29\n",
      "30    6.205437    30\n",
      "31    5.492482    31\n",
      "32    4.861440    32\n"
     ]
    },
    {
     "data": {
      "text/plain": [
       "[Text(0.5, 1.0, 'Wild Bobcat Population')]"
      ]
     },
     "execution_count": 201,
     "metadata": {},
     "output_type": "execute_result"
    },
    {
     "data": {
      "image/png": "[encoded data removed]",
      "text/plain": [
       "<Figure size 432x288 with 1 Axes>"
      ]
     },
     "metadata": {
      "needs_background": "light"
     },
     "output_type": "display_data"
    }
   ],
   "source": [
    "default_leslie_matrix = np.array([[0.32, 0.32, 1.01, 1.01, 1.01, 1.01, 1.01, 1.01, 1.01, 1.01, 1.01, 1.01, 1.01, 1.01, 1.01, 1.01],\n",
    "                         [0.38, 0, 0, 0, 0, 0, 0, 0, 0, 0, 0, 0, 0, 0, 0, 0],\n",
    "                         [0, 0.38, 0, 0, 0, 0, 0, 0, 0, 0, 0, 0, 0, 0, 0, 0],\n",
    "                         [0, 0, 0.5, 0, 0, 0, 0, 0, 0, 0, 0, 0, 0, 0, 0, 0],\n",
    "                         [0, 0, 0, 0.5, 0, 0, 0, 0, 0, 0, 0, 0, 0, 0, 0, 0],\n",
    "                         [0, 0, 0, 0, 0.5, 0, 0, 0, 0, 0, 0, 0, 0, 0, 0, 0],\n",
    "                         [0, 0, 0, 0, 0, 0.5, 0, 0, 0, 0, 0, 0, 0, 0, 0, 0],\n",
    "                         [0, 0, 0, 0, 0, 0, 0.5, 0, 0, 0, 0, 0, 0, 0, 0, 0],\n",
    "                         [0, 0, 0, 0, 0, 0, 0, 0.5, 0, 0, 0, 0, 0, 0, 0, 0],\n",
    "                         [0, 0, 0, 0, 0, 0, 0, 0, 0.5, 0, 0, 0, 0, 0, 0, 0],\n",
    "                         [0, 0, 0, 0, 0, 0, 0, 0, 0, 0.5, 0, 0, 0, 0, 0, 0],\n",
    "                         [0, 0, 0, 0, 0, 0, 0, 0, 0, 0, 0.5, 0, 0, 0, 0, 0],\n",
    "                         [0, 0, 0, 0, 0, 0, 0, 0, 0, 0, 0, 0.5, 0, 0, 0, 0],\n",
    "                         [0, 0, 0, 0, 0, 0, 0, 0, 0, 0, 0, 0, 0.5, 0, 0, 0],\n",
    "                         [0, 0, 0, 0, 0, 0, 0, 0, 0, 0, 0, 0, 0, 0.5, 0, 0],\n",
    "                         [0, 0, 0, 0, 0, 0, 0, 0, 0, 0, 0, 0, 0, 0, 0.5, 0]])\n",
    "\n",
    "def growth(t0_population = default_t0_population, leslie_matrix = default_leslie_matrix, number_of_years = default_number_of_years):\n",
    "    nth_population = np.zeros(number_of_years+1)\n",
    "    nth_population[0] = np.sum(t0_population)\n",
    "    nth_year = np.arange(number_of_years+1)\n",
    "    for i in nth_year[1:number_of_years+1]:\n",
    "        nth_population[i] =  np.sum(linalg.matrix_power(leslie_matrix, i).dot(t0_population))\n",
    "\n",
    "    df = pd.DataFrame({\n",
    "        'Population' : nth_population,\n",
    "        'Year' : nth_year\n",
    "        })\n",
    "\n",
    "    print(df)\n",
    "\n",
    "    return df\n",
    "\n",
    "data_nth_population_ex_situ = growth()\n",
    "\n",
    "sns.scatterplot(data = data_nth_population_ex_situ, x = \"Year\", y = \"Population\").set(title = \"Wild Bobcat Population\")"
   ]
  },
  {
   "cell_type": "markdown",
   "metadata": {},
   "source": [
    "### In-situ Model"
   ]
  },
  {
   "cell_type": "code",
   "execution_count": 202,
   "metadata": {},
   "outputs": [
    {
     "name": "stdout",
     "output_type": "stream",
     "text": [
      "       Population  Year\n",
      "0      160.000000     0\n",
      "1      283.400000     1\n",
      "2      364.551000     2\n",
      "3      436.625020     3\n",
      "4      533.537755     4\n",
      "5      659.378462     5\n",
      "6      816.476326     6\n",
      "7     1011.801542     7\n",
      "8     1254.810158     8\n",
      "9     1556.937354     9\n",
      "10    1932.309667    10\n",
      "11    2398.526699    11\n",
      "12    2977.476937    12\n",
      "13    3696.349631    13\n",
      "14    4588.910176    14\n",
      "15    5697.086946    15\n",
      "16    7072.962384    16\n",
      "17    8780.820087    17\n",
      "18   10900.820052    18\n",
      "19   13532.641624    19\n",
      "20   16799.935634    20\n",
      "21   20856.107525    21\n",
      "22   25891.603462    22\n",
      "23   32142.871022    23\n",
      "24   39903.448538    24\n",
      "25   49537.743797    25\n",
      "26   61498.146761    26\n",
      "27   76346.272961    27\n",
      "28   94779.334716    28\n",
      "29  117662.879458    29\n",
      "30  146071.432573    30\n",
      "31  181338.953086    31\n",
      "32  225121.471343    32\n"
     ]
    },
    {
     "data": {
      "text/plain": [
       "[Text(0.5, 1.0, 'In-Situ Bobcat Population')]"
      ]
     },
     "execution_count": 202,
     "metadata": {},
     "output_type": "execute_result"
    },
    {
     "data": {
      "image/png": "[encoded data removed]",
      "text/plain": [
       "<Figure size 432x288 with 1 Axes>"
      ]
     },
     "metadata": {
      "needs_background": "light"
     },
     "output_type": "display_data"
    }
   ],
   "source": [
    "leslie_matrix_extended = np.array([[0.63, 0.63, 1.2, 1.2, 1.2, 1.2, 1.2, 1.2, 1.2, 1.2, 1.2, 1.2, 1.2, 1.2, 1.2, 1.2],\n",
    "                         [0.34, 0, 0, 0, 0, 0, 0, 0, 0, 0, 0, 0, 0, 0, 0, 0],\n",
    "                         [0, 0.71, 0, 0, 0, 0, 0, 0, 0, 0, 0, 0, 0, 0, 0, 0],\n",
    "                         [0, 0, 0.71, 0, 0, 0, 0, 0, 0, 0, 0, 0, 0, 0, 0, 0],\n",
    "                         [0, 0, 0, 0.71, 0, 0, 0, 0, 0, 0, 0, 0, 0, 0, 0, 0],\n",
    "                         [0, 0, 0, 0, 0.71, 0, 0, 0, 0, 0, 0, 0, 0, 0, 0, 0],\n",
    "                         [0, 0, 0, 0, 0, 0.71, 0, 0, 0, 0, 0, 0, 0, 0, 0, 0],\n",
    "                         [0, 0, 0, 0, 0, 0, 0.71, 0, 0, 0, 0, 0, 0, 0, 0, 0],\n",
    "                         [0, 0, 0, 0, 0, 0, 0, 0.71, 0, 0, 0, 0, 0, 0, 0, 0],\n",
    "                         [0, 0, 0, 0, 0, 0, 0, 0, 0.71, 0, 0, 0, 0, 0, 0, 0],\n",
    "                         [0, 0, 0, 0, 0, 0, 0, 0, 0, 0.71, 0, 0, 0, 0, 0, 0],\n",
    "                         [0, 0, 0, 0, 0, 0, 0, 0, 0, 0, 0.71, 0, 0, 0, 0, 0],\n",
    "                         [0, 0, 0, 0, 0, 0, 0, 0, 0, 0, 0, 0.71, 0, 0, 0, 0],\n",
    "                         [0, 0, 0, 0, 0, 0, 0, 0, 0, 0, 0, 0, 0.71, 0, 0, 0],\n",
    "                         [0, 0, 0, 0, 0, 0, 0, 0, 0, 0, 0, 0, 0, 0.71, 0, 0],\n",
    "                         [0, 0, 0, 0, 0, 0, 0, 0, 0, 0, 0, 0, 0, 0, 0.71, 0]])\n",
    "\n",
    "data_nth_population_in_situ = growth(leslie_matrix = leslie_matrix_extended)\n",
    "\n",
    "sns.scatterplot(data = data_nth_population_in_situ, x = \"Year\", y = \"Population\").set(title = \"In-Situ Bobcat Population\")"
   ]
  },
  {
   "cell_type": "markdown",
   "metadata": {},
   "source": [
    "## Extended Model"
   ]
  },
  {
   "cell_type": "code",
   "execution_count": 203,
   "metadata": {},
   "outputs": [],
   "source": [
    "default_catastrophie_matrix = np.identity(16)\n",
    "for i in range(0,16):\n",
    "    default_catastrophie_matrix[i][i] = 0.2"
   ]
  },
  {
   "cell_type": "markdown",
   "metadata": {},
   "source": [
    "### Ex-situ Catastrophe Model"
   ]
  },
  {
   "cell_type": "code",
   "execution_count": 204,
   "metadata": {},
   "outputs": [
    {
     "name": "stdout",
     "output_type": "stream",
     "text": [
      "    Population  Year\n",
      "0   160.000000     0\n",
      "1   220.400000     1\n",
      "2   207.508000     2\n",
      "3   171.014240     3\n",
      "4   148.864067     4\n",
      "5   102.304585     5\n",
      "6    90.179592     6\n",
      "7    79.609293     7\n",
      "8    70.436753     8\n",
      "9    62.330192     9\n",
      "10   42.690150    10\n",
      "11   37.783535    11\n",
      "12   33.442948    12\n",
      "13   29.601364    13\n",
      "14   26.201419    14\n",
      "15   17.952006    15\n",
      "16   15.890401    16\n",
      "17   14.064282    17\n",
      "18   12.448082    18\n",
      "19   11.017904    19\n",
      "20    7.548539    20\n",
      "21    6.681244    21\n",
      "22    5.913611    22\n",
      "23    5.234189    23\n",
      "24    4.632824    24\n",
      "25    3.173984    25\n",
      "26    2.809319    26\n",
      "27    2.486551    27\n",
      "28    2.200866    28\n",
      "29    1.948005    29\n",
      "30    1.334594    30\n",
      "31    1.181260    31\n",
      "32    1.045542    32\n"
     ]
    },
    {
     "data": {
      "text/plain": [
       "[Text(0.5, 1.0, 'Ex-situ Bobcat Population with Catastrophes')]"
      ]
     },
     "execution_count": 204,
     "metadata": {},
     "output_type": "execute_result"
    },
    {
     "data": {
      "image/png": "[encoded data removed]",
      "text/plain": [
       "<Figure size 432x288 with 1 Axes>"
      ]
     },
     "metadata": {
      "needs_background": "light"
     },
     "output_type": "display_data"
    }
   ],
   "source": [
    "def growth_extended_catastrophe(t0_population = default_t0_population, leslie_matrix = default_leslie_matrix, number_of_years = default_number_of_years, catastrophie_matrix = default_catastrophie_matrix):\n",
    "    nth_population_extended = np.zeros(number_of_years+1)\n",
    "    nth_population_extended[0] = np.sum(t0_population)\n",
    "    current_population = t0_population\n",
    "    nth_year = np.arange(number_of_years+1)\n",
    "    for i in range(1, number_of_years+1):\n",
    "        if (i % 5 == 0):\n",
    "            current_population = leslie_matrix.dot(current_population) - catastrophie_matrix.dot(current_population)\n",
    "            nth_population_extended[i] = np.sum(current_population)\n",
    "        else:\n",
    "            current_population = leslie_matrix.dot(current_population)\n",
    "            nth_population_extended[i] = np.sum(current_population)\n",
    "\n",
    "    df = pd.DataFrame({\n",
    "        'Population' : nth_population_extended,\n",
    "        'Year' : nth_year\n",
    "        })\n",
    "\n",
    "    print(df)\n",
    "\n",
    "    return df\n",
    "\n",
    "data_nth_population_extended_ex_situ = growth_extended_catastrophe()\n",
    "\n",
    "sns.scatterplot(data = data_nth_population_extended_ex_situ, x = \"Year\", y = \"Population\").set(title = \"Ex-situ Bobcat Population with Catastrophes\")"
   ]
  },
  {
   "cell_type": "markdown",
   "metadata": {},
   "source": [
    "### In-situ Catastrophe Model"
   ]
  },
  {
   "cell_type": "code",
   "execution_count": 205,
   "metadata": {},
   "outputs": [
    {
     "name": "stdout",
     "output_type": "stream",
     "text": [
      "      Population  Year\n",
      "0     160.000000     0\n",
      "1     283.400000     1\n",
      "2     364.551000     2\n",
      "3     436.625020     3\n",
      "4     533.537755     4\n",
      "5     552.670911     5\n",
      "6     684.600633     6\n",
      "7     848.506276     7\n",
      "8    1052.449850     8\n",
      "9    1305.975322     9\n",
      "10   1359.727132    10\n",
      "11   1687.880327    11\n",
      "12   2095.358644    12\n",
      "13   2601.299925    13\n",
      "14   3229.469401    14\n",
      "15   3363.482980    15\n",
      "16   4175.808641    16\n",
      "17   5183.981809    17\n",
      "18   6435.506790    18\n",
      "19   7989.264304    19\n",
      "20   8320.349644    20\n",
      "21  10329.216078    21\n",
      "22  12823.098774    22\n",
      "23  15919.108345    23\n",
      "24  19762.621007    24\n",
      "25  20581.588272    25\n",
      "26  25550.811571    26\n",
      "27  31719.805491    27\n",
      "28  39378.242825    28\n",
      "29  48885.735032    29\n",
      "30  50911.571255    30\n",
      "31  63203.672643    31\n",
      "32  78463.581541    32\n"
     ]
    },
    {
     "data": {
      "text/plain": [
       "[Text(0.5, 1.0, 'In-Situ Bobcat Population with Catastrophes')]"
      ]
     },
     "execution_count": 205,
     "metadata": {},
     "output_type": "execute_result"
    },
    {
     "data": {
      "image/png": "[encoded data removed]",
      "text/plain": [
       "<Figure size 432x288 with 1 Axes>"
      ]
     },
     "metadata": {
      "needs_background": "light"
     },
     "output_type": "display_data"
    }
   ],
   "source": [
    "data_nth_population_extended_in_situ = growth_extended_catastrophe(leslie_matrix=leslie_matrix_extended)\n",
    "\n",
    "sns.scatterplot(data = data_nth_population_extended_in_situ, x = \"Year\", y = \"Population\").set(title = \"In-Situ Bobcat Population with Catastrophes\")"
   ]
  },
  {
   "cell_type": "markdown",
   "metadata": {},
   "source": [
    "### Ex-situ Migration Model"
   ]
  },
  {
   "cell_type": "code",
   "execution_count": 206,
   "metadata": {},
   "outputs": [
    {
     "name": "stdout",
     "output_type": "stream",
     "text": [
      "    Population  Year\n",
      "0   160.000000     0\n",
      "1   177.400000     1\n",
      "2    89.758000     2\n",
      "3    56.839240     3\n",
      "4    63.528011     4\n",
      "5    44.845609     5\n",
      "6    48.397819     6\n",
      "7    45.396724     7\n",
      "8    44.468988     8\n",
      "9    44.894857     9\n",
      "10   44.194572    10\n",
      "11   44.392288    11\n",
      "12   44.279091    12\n",
      "13   44.253454    13\n",
      "14   44.274684    14\n",
      "15   44.247240    15\n",
      "16   44.258336    16\n",
      "17   44.249534    17\n",
      "18   44.261043    18\n",
      "19   44.233462    19\n",
      "20   44.286613    20\n",
      "21   44.201385    21\n",
      "22   44.317641    22\n",
      "23   44.177293    23\n",
      "24   44.331326    24\n",
      "25   44.173823    25\n",
      "26   44.326897    26\n",
      "27   44.183191    27\n",
      "28   44.314911    28\n",
      "29   44.196442    29\n",
      "30   44.300996    30\n",
      "31   44.210725    31\n",
      "32   44.286667    32\n"
     ]
    },
    {
     "data": {
      "text/plain": [
       "[Text(0.5, 1.0, 'Ex-situ Bobcat Population with Migrations')]"
      ]
     },
     "execution_count": 206,
     "metadata": {},
     "output_type": "execute_result"
    },
    {
     "data": {
      "image/png": "[encoded data removed]",
      "text/plain": [
       "<Figure size 432x288 with 1 Axes>"
      ]
     },
     "metadata": {
      "needs_background": "light"
     },
     "output_type": "display_data"
    }
   ],
   "source": [
    "def growth_extended_migration(t0_population = default_t0_population, leslie_matrix = default_leslie_matrix, number_of_years = default_number_of_years, catastrophie_matrix = default_catastrophie_matrix):\n",
    "    nth_population_extended = np.zeros(number_of_years+1)\n",
    "    nth_population_extended[0] = np.sum(t0_population)\n",
    "    current_population = t0_population\n",
    "    nth_year = np.arange(number_of_years+1)\n",
    "    for i in range(1, number_of_years+1):\n",
    "        current_population = leslie_matrix.dot(current_population) + np.array([7, 7, 7, 0, 0, 0, 0, 0, 0, 0, 0, 0, 0, 0, 0, 0]) - current_population*0.4\n",
    "        nth_population_extended[i] = np.sum(current_population)\n",
    "\n",
    "    df = pd.DataFrame({\n",
    "        'Population' : nth_population_extended,\n",
    "        'Year' : nth_year\n",
    "        })\n",
    "\n",
    "    print(df)\n",
    "\n",
    "    return df\n",
    "\n",
    "data_nth_population_extended_ex_situ = growth_extended_migration()\n",
    "\n",
    "sns.scatterplot(data = data_nth_population_extended_ex_situ, x = \"Year\", y = \"Population\").set(title = \"Ex-situ Bobcat Population with Migrations\")"
   ]
  },
  {
   "cell_type": "markdown",
   "metadata": {},
   "source": [
    "### In-situ Migration Model"
   ]
  },
  {
   "cell_type": "code",
   "execution_count": 207,
   "metadata": {},
   "outputs": [
    {
     "name": "stdout",
     "output_type": "stream",
     "text": [
      "    Population  Year\n",
      "0   160.000000     0\n",
      "1   240.400000     1\n",
      "2   205.571000     2\n",
      "3   185.701820     3\n",
      "4   191.480187     4\n",
      "5   180.049391     5\n",
      "6   177.172351     6\n",
      "7   173.953357     7\n",
      "8   170.293774     8\n",
      "9   168.081273     9\n",
      "10  165.835968    10\n",
      "11  164.016312    11\n",
      "12  162.525278    12\n",
      "13  161.226310    13\n",
      "14  160.154975    14\n",
      "15  159.190506    15\n",
      "16  158.643554    16\n",
      "17  157.164243    17\n",
      "18  159.148983    18\n",
      "19  153.008818    19\n",
      "20  162.642373    20\n",
      "21  147.744936    21\n",
      "22  165.733760    22\n",
      "23  145.153491    23\n",
      "24  165.685964    24\n",
      "25  145.802978    25\n",
      "26  163.539499    26\n",
      "27  147.768785    27\n",
      "28  161.062069    28\n",
      "29  149.746659    29\n",
      "30  158.932781    30\n",
      "31  151.404348    31\n",
      "32  157.252069    32\n"
     ]
    },
    {
     "data": {
      "text/plain": [
       "[Text(0.5, 1.0, 'In-situ Bobcat Population with Migrations')]"
      ]
     },
     "execution_count": 207,
     "metadata": {},
     "output_type": "execute_result"
    },
    {
     "data": {
      "image/png": "[encoded data removed]",
      "text/plain": [
       "<Figure size 432x288 with 1 Axes>"
      ]
     },
     "metadata": {
      "needs_background": "light"
     },
     "output_type": "display_data"
    }
   ],
   "source": [
    "data_nth_population_extended_ex_situ = growth_extended_migration(leslie_matrix=leslie_matrix_extended)\n",
    "\n",
    "sns.scatterplot(data = data_nth_population_extended_ex_situ, x = \"Year\", y = \"Population\").set(title = \"In-situ Bobcat Population with Migrations\")"
   ]
  },
  {
   "cell_type": "markdown",
   "metadata": {},
   "source": [
    "## Stochastic Model"
   ]
  },
  {
   "cell_type": "code",
   "execution_count": 208,
   "metadata": {},
   "outputs": [],
   "source": [
    "# Seed and success values\n",
    "rd.seed(0)\n",
    "default_success_rate_catastrophes = 0.7 # 70% of the times, a catastrophe is successful\n",
    "default_catastrophie_rate = 5 # A catastrophe happens every 5 years"
   ]
  },
  {
   "cell_type": "markdown",
   "metadata": {},
   "source": [
    "### Ex-situ Catastrophe Model"
   ]
  },
  {
   "cell_type": "code",
   "execution_count": 209,
   "metadata": {},
   "outputs": [
    {
     "name": "stdout",
     "output_type": "stream",
     "text": [
      "    Population  Year\n",
      "0   160.000000     0\n",
      "1   220.400000     1\n",
      "2   207.508000     2\n",
      "3   171.014240     3\n",
      "4   148.864067     4\n",
      "5   105.661919     5\n",
      "6    93.276057     6\n",
      "7    82.342646     7\n",
      "8    72.817931     8\n",
      "9    64.427740     9\n",
      "10   57.010499    10\n",
      "11   50.453918    11\n",
      "12   44.655506    12\n",
      "13   39.525137    13\n",
      "14   34.984969    14\n",
      "15   24.773451    15\n",
      "16   21.928331    16\n",
      "17   19.409229    17\n",
      "18   17.179097    18\n",
      "19   15.205236    19\n",
      "20   10.766624    20\n",
      "21    9.529632    21\n",
      "22    8.434749    22\n",
      "23    7.465662    23\n",
      "24    6.607917    24\n",
      "25    4.678977    25\n",
      "26    4.141400    26\n",
      "27    3.665586    27\n",
      "28    3.244440    28\n",
      "29    2.871680    29\n",
      "30    2.033398    30\n",
      "31    1.799777    31\n",
      "32    1.592997    32\n"
     ]
    },
    {
     "data": {
      "text/plain": [
       "[Text(0.5, 1.0, 'Ex-situ Bobcat Population with Stochastic Catastrophes')]"
      ]
     },
     "execution_count": 209,
     "metadata": {},
     "output_type": "execute_result"
    },
    {
     "data": {
      "image/png": "[encoded data removed]",
      "text/plain": [
       "<Figure size 432x288 with 1 Axes>"
      ]
     },
     "metadata": {
      "needs_background": "light"
     },
     "output_type": "display_data"
    }
   ],
   "source": [
    "def growth_stochastic_catastrophe(t0_population = default_t0_population, leslie_matrix = default_leslie_matrix, number_of_years = default_number_of_years, catastrophie_matrix = default_catastrophie_matrix, success_rate = default_success_rate_catastrophes, catastrophe_rate = default_catastrophie_rate):\n",
    "    nth_population_stochastic = np.zeros(number_of_years+1)\n",
    "    nth_population_stochastic[0] = np.sum(t0_population)\n",
    "    current_population = t0_population\n",
    "    nth_year = np.arange(number_of_years+1)\n",
    "    for i in range(1, number_of_years+1):\n",
    "        if (i % catastrophe_rate == 0):\n",
    "            current_success = rd.random()\n",
    "            # print(current_success) # Uncomment to see the success rates\n",
    "            if (current_success < success_rate):\n",
    "                current_population = leslie_matrix.dot(current_population)\n",
    "                current_population = current_population - catastrophie_matrix.dot(current_population)\n",
    "                nth_population_stochastic[i] = np.sum(current_population)\n",
    "            else:\n",
    "                current_population = leslie_matrix.dot(current_population)\n",
    "                nth_population_stochastic[i] = np.sum(current_population)\n",
    "                \n",
    "        else:\n",
    "            current_population = leslie_matrix.dot(current_population)\n",
    "            nth_population_stochastic[i] = np.sum(current_population)\n",
    "\n",
    "    df = pd.DataFrame({\n",
    "        'Population' : nth_population_stochastic,\n",
    "        'Year' : nth_year\n",
    "        })\n",
    "\n",
    "    print(df)\n",
    "\n",
    "    return df\n",
    "\n",
    "data_nth_population_extended_ex_situ_stochastic = growth_stochastic_catastrophe()\n",
    "\n",
    "sns.scatterplot(data = data_nth_population_extended_ex_situ_stochastic, x = \"Year\", y = \"Population\").set(title = \"Ex-situ Bobcat Population with Stochastic Catastrophes\")"
   ]
  },
  {
   "cell_type": "markdown",
   "metadata": {},
   "source": [
    "### In-situ Catastrophe Model"
   ]
  },
  {
   "cell_type": "code",
   "execution_count": 210,
   "metadata": {},
   "outputs": [
    {
     "name": "stdout",
     "output_type": "stream",
     "text": [
      "       Population  Year\n",
      "0      160.000000     0\n",
      "1      283.400000     1\n",
      "2      364.551000     2\n",
      "3      436.625020     3\n",
      "4      533.537755     4\n",
      "5      527.502769     5\n",
      "6      653.181060     6\n",
      "7      809.441233     7\n",
      "8     1003.848126     8\n",
      "9     1245.549883     9\n",
      "10    1545.847734    10\n",
      "11    1918.821359    11\n",
      "12    2381.981549    12\n",
      "13    2957.079705    13\n",
      "14    3671.128141    14\n",
      "15    4557.669556    15\n",
      "16    5658.369907    16\n",
      "17    7024.656070    17\n",
      "18    8720.656042    18\n",
      "19   10826.113299    19\n",
      "20   10751.958806    20\n",
      "21   13347.908816    21\n",
      "22   16570.626215    22\n",
      "23   20571.437454    23\n",
      "24   25538.207064    24\n",
      "25   31704.156030    25\n",
      "26   39358.813927    26\n",
      "27   48861.614695    27\n",
      "28   60658.774218    28\n",
      "29   75304.242853    29\n",
      "30   74788.573477    30\n",
      "31   92845.543980    31\n",
      "32  115262.193328    32\n"
     ]
    },
    {
     "data": {
      "text/plain": [
       "[Text(0.5, 1.0, 'In-situ Bobcat Population with Stochastic Catastrophes')]"
      ]
     },
     "execution_count": 210,
     "metadata": {},
     "output_type": "execute_result"
    },
    {
     "data": {
      "image/png": "[encoded data removed]",
      "text/plain": [
       "<Figure size 432x288 with 1 Axes>"
      ]
     },
     "metadata": {
      "needs_background": "light"
     },
     "output_type": "display_data"
    }
   ],
   "source": [
    "data_nth_population_extended_in_situ_stochastic = growth_stochastic_catastrophe(leslie_matrix=leslie_matrix_extended)\n",
    "\n",
    "sns.scatterplot(data = data_nth_population_extended_in_situ_stochastic, x = \"Year\", y = \"Population\").set(title = \"In-situ Bobcat Population with Stochastic Catastrophes\")"
   ]
  },
  {
   "cell_type": "markdown",
   "metadata": {},
   "source": [
    "### "
   ]
  }
 ],
 "metadata": {
  "interpreter": {
   "hash": "131f4927bd4d69df986f31a9cb53e9565e578aa4a87c464df403f960c3c68ad4"
  },
  "kernelspec": {
   "display_name": "Python 3.10.4 64-bit",
   "language": "python",
   "name": "python3"
  },
  "language_info": {
   "codemirror_mode": {
    "name": "ipython",
    "version": 3
   },
   "file_extension": ".py",
   "mimetype": "text/x-python",
   "name": "python",
   "nbconvert_exporter": "python",
   "pygments_lexer": "ipython3",
   "version": "3.10.4"
  },
  "orig_nbformat": 4
 },
 "nbformat": 4,
 "nbformat_minor": 2
}
