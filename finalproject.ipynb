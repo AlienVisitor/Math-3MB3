{
 "cells": [
  {
   "cell_type": "markdown",
   "metadata": {},
   "source": [
    "# Bobcat Population Analysis"
   ]
  },
  {
   "cell_type": "code",
   "execution_count": 355,
   "metadata": {},
   "outputs": [],
   "source": [
    "# Imports\n",
    "import numpy as np\n",
    "import pandas as pd\n",
    "import seaborn as sns\n",
    "import matplotlib.pyplot as plt\n",
    "import numpy.linalg as linalg\n",
    "from numpy import random as rd\n",
    "\n",
    "# Base variables and functions\n",
    "identity_matrix = np.identity(16)\n",
    "default_t0_population = np.array([10, 10, 10, 10, 10, 10, 10, 10, 10, 10, 10, 10, 10, 10, 10, 10])\n",
    "default_number_of_years = 32"
   ]
  },
  {
   "cell_type": "markdown",
   "metadata": {},
   "source": [
    "## Base Model"
   ]
  },
  {
   "cell_type": "markdown",
   "metadata": {},
   "source": [
    "### Ex-situ Model"
   ]
  },
  {
   "cell_type": "code",
   "execution_count": 356,
   "metadata": {},
   "outputs": [
    {
     "name": "stdout",
     "output_type": "stream",
     "text": [
      "    Population  Year\n",
      "0   160.000000     0\n",
      "1   220.400000     1\n",
      "2   207.508000     2\n",
      "3   171.014240     3\n",
      "4   148.864067     4\n",
      "5   132.077399     5\n",
      "6   116.595072     6\n",
      "7   102.928307     7\n",
      "8    91.022414     8\n",
      "9    80.534675     9\n",
      "10   71.263123    10\n",
      "11   63.067398    11\n",
      "12   55.819382    12\n",
      "13   49.406421    13\n",
      "14   43.731212    14\n",
      "15   38.708517    15\n",
      "16   34.263017    16\n",
      "17   30.326920    17\n",
      "18   26.842340    18\n",
      "19   23.758182    19\n",
      "20   21.028563    20\n",
      "21   18.612563    21\n",
      "22   16.474120    22\n",
      "23   14.581371    23\n",
      "24   12.906089    24\n",
      "25   11.423283    25\n",
      "26   10.110839    26\n",
      "27    8.949185    27\n",
      "28    7.920996    28\n",
      "29    7.010937    29\n",
      "30    6.205437    30\n",
      "31    5.492482    31\n",
      "32    4.861440    32\n"
     ]
    },
    {
     "data": {
      "text/plain": [
       "[Text(0.5, 1.0, 'Wild Bobcat Population')]"
      ]
     },
     "execution_count": 356,
     "metadata": {},
     "output_type": "execute_result"
    },
    {
     "data": {
      "image/png": "[encoded data removed]",
      "text/plain": [
       "<Figure size 432x288 with 1 Axes>"
      ]
     },
     "metadata": {
      "needs_background": "light"
     },
     "output_type": "display_data"
    }
   ],
   "source": [
    "default_leslie_matrix = np.array([[0.32, 0.32, 1.01, 1.01, 1.01, 1.01, 1.01, 1.01, 1.01, 1.01, 1.01, 1.01, 1.01, 1.01, 1.01, 1.01],\n",
    "                         [0.38, 0, 0, 0, 0, 0, 0, 0, 0, 0, 0, 0, 0, 0, 0, 0],\n",
    "                         [0, 0.38, 0, 0, 0, 0, 0, 0, 0, 0, 0, 0, 0, 0, 0, 0],\n",
    "                         [0, 0, 0.5, 0, 0, 0, 0, 0, 0, 0, 0, 0, 0, 0, 0, 0],\n",
    "                         [0, 0, 0, 0.5, 0, 0, 0, 0, 0, 0, 0, 0, 0, 0, 0, 0],\n",
    "                         [0, 0, 0, 0, 0.5, 0, 0, 0, 0, 0, 0, 0, 0, 0, 0, 0],\n",
    "                         [0, 0, 0, 0, 0, 0.5, 0, 0, 0, 0, 0, 0, 0, 0, 0, 0],\n",
    "                         [0, 0, 0, 0, 0, 0, 0.5, 0, 0, 0, 0, 0, 0, 0, 0, 0],\n",
    "                         [0, 0, 0, 0, 0, 0, 0, 0.5, 0, 0, 0, 0, 0, 0, 0, 0],\n",
    "                         [0, 0, 0, 0, 0, 0, 0, 0, 0.5, 0, 0, 0, 0, 0, 0, 0],\n",
    "                         [0, 0, 0, 0, 0, 0, 0, 0, 0, 0.5, 0, 0, 0, 0, 0, 0],\n",
    "                         [0, 0, 0, 0, 0, 0, 0, 0, 0, 0, 0.5, 0, 0, 0, 0, 0],\n",
    "                         [0, 0, 0, 0, 0, 0, 0, 0, 0, 0, 0, 0.5, 0, 0, 0, 0],\n",
    "                         [0, 0, 0, 0, 0, 0, 0, 0, 0, 0, 0, 0, 0.5, 0, 0, 0],\n",
    "                         [0, 0, 0, 0, 0, 0, 0, 0, 0, 0, 0, 0, 0, 0.5, 0, 0],\n",
    "                         [0, 0, 0, 0, 0, 0, 0, 0, 0, 0, 0, 0, 0, 0, 0.5, 0]])\n",
    "\n",
    "def growth(t0_population = default_t0_population, leslie_matrix = default_leslie_matrix, number_of_years = default_number_of_years):\n",
    "    nth_population = np.zeros(number_of_years+1)\n",
    "    nth_population[0] = np.sum(t0_population)\n",
    "    nth_year = np.arange(number_of_years+1)\n",
    "    for i in nth_year[1:number_of_years+1]:\n",
    "        nth_population[i] =  np.sum(linalg.matrix_power(leslie_matrix, i).dot(t0_population))\n",
    "\n",
    "    df = pd.DataFrame({\n",
    "        'Population' : nth_population,\n",
    "        'Year' : nth_year\n",
    "        })\n",
    "\n",
    "    print(df)\n",
    "\n",
    "    return df\n",
    "\n",
    "data_nth_population_ex_situ = growth()\n",
    "\n",
    "sns.scatterplot(data = data_nth_population_ex_situ, x = \"Year\", y = \"Population\").set(title = \"Wild Bobcat Population\")"
   ]
  },
  {
   "cell_type": "markdown",
   "metadata": {},
   "source": [
    "### In-situ Model"
   ]
  },
  {
   "cell_type": "code",
   "execution_count": 357,
   "metadata": {},
   "outputs": [
    {
     "name": "stdout",
     "output_type": "stream",
     "text": [
      "       Population  Year\n",
      "0      160.000000     0\n",
      "1      283.400000     1\n",
      "2      364.551000     2\n",
      "3      436.625020     3\n",
      "4      533.537755     4\n",
      "5      659.378462     5\n",
      "6      816.476326     6\n",
      "7     1011.801542     7\n",
      "8     1254.810158     8\n",
      "9     1556.937354     9\n",
      "10    1932.309667    10\n",
      "11    2398.526699    11\n",
      "12    2977.476937    12\n",
      "13    3696.349631    13\n",
      "14    4588.910176    14\n",
      "15    5697.086946    15\n",
      "16    7072.962384    16\n",
      "17    8780.820087    17\n",
      "18   10900.820052    18\n",
      "19   13532.641624    19\n",
      "20   16799.935634    20\n",
      "21   20856.107525    21\n",
      "22   25891.603462    22\n",
      "23   32142.871022    23\n",
      "24   39903.448538    24\n",
      "25   49537.743797    25\n",
      "26   61498.146761    26\n",
      "27   76346.272961    27\n",
      "28   94779.334716    28\n",
      "29  117662.879458    29\n",
      "30  146071.432573    30\n",
      "31  181338.953086    31\n",
      "32  225121.471343    32\n"
     ]
    },
    {
     "data": {
      "text/plain": [
       "[Text(0.5, 1.0, 'In-Situ Bobcat Population')]"
      ]
     },
     "execution_count": 357,
     "metadata": {},
     "output_type": "execute_result"
    },
    {
     "data": {
      "image/png": "[encoded data removed]",
      "text/plain": [
       "<Figure size 432x288 with 1 Axes>"
      ]
     },
     "metadata": {
      "needs_background": "light"
     },
     "output_type": "display_data"
    }
   ],
   "source": [
    "leslie_matrix_extended = np.array([[0.63, 0.63, 1.2, 1.2, 1.2, 1.2, 1.2, 1.2, 1.2, 1.2, 1.2, 1.2, 1.2, 1.2, 1.2, 1.2],\n",
    "                         [0.34, 0, 0, 0, 0, 0, 0, 0, 0, 0, 0, 0, 0, 0, 0, 0],\n",
    "                         [0, 0.71, 0, 0, 0, 0, 0, 0, 0, 0, 0, 0, 0, 0, 0, 0],\n",
    "                         [0, 0, 0.71, 0, 0, 0, 0, 0, 0, 0, 0, 0, 0, 0, 0, 0],\n",
    "                         [0, 0, 0, 0.71, 0, 0, 0, 0, 0, 0, 0, 0, 0, 0, 0, 0],\n",
    "                         [0, 0, 0, 0, 0.71, 0, 0, 0, 0, 0, 0, 0, 0, 0, 0, 0],\n",
    "                         [0, 0, 0, 0, 0, 0.71, 0, 0, 0, 0, 0, 0, 0, 0, 0, 0],\n",
    "                         [0, 0, 0, 0, 0, 0, 0.71, 0, 0, 0, 0, 0, 0, 0, 0, 0],\n",
    "                         [0, 0, 0, 0, 0, 0, 0, 0.71, 0, 0, 0, 0, 0, 0, 0, 0],\n",
    "                         [0, 0, 0, 0, 0, 0, 0, 0, 0.71, 0, 0, 0, 0, 0, 0, 0],\n",
    "                         [0, 0, 0, 0, 0, 0, 0, 0, 0, 0.71, 0, 0, 0, 0, 0, 0],\n",
    "                         [0, 0, 0, 0, 0, 0, 0, 0, 0, 0, 0.71, 0, 0, 0, 0, 0],\n",
    "                         [0, 0, 0, 0, 0, 0, 0, 0, 0, 0, 0, 0.71, 0, 0, 0, 0],\n",
    "                         [0, 0, 0, 0, 0, 0, 0, 0, 0, 0, 0, 0, 0.71, 0, 0, 0],\n",
    "                         [0, 0, 0, 0, 0, 0, 0, 0, 0, 0, 0, 0, 0, 0.71, 0, 0],\n",
    "                         [0, 0, 0, 0, 0, 0, 0, 0, 0, 0, 0, 0, 0, 0, 0.71, 0]])\n",
    "\n",
    "data_nth_population_in_situ = growth(leslie_matrix = leslie_matrix_extended)\n",
    "\n",
    "sns.scatterplot(data = data_nth_population_in_situ, x = \"Year\", y = \"Population\").set(title = \"In-Situ Bobcat Population\")"
   ]
  },
  {
   "cell_type": "markdown",
   "metadata": {},
   "source": [
    "## Extended Model"
   ]
  },
  {
   "cell_type": "code",
   "execution_count": 358,
   "metadata": {},
   "outputs": [],
   "source": [
    "default_catastrophie_matrix = np.identity(16)\n",
    "for i in range(0,16):\n",
    "    default_catastrophie_matrix[i][i] = 0.2"
   ]
  },
  {
   "cell_type": "markdown",
   "metadata": {},
   "source": [
    "### Ex-situ Catastrophe Model"
   ]
  },
  {
   "cell_type": "code",
   "execution_count": 359,
   "metadata": {},
   "outputs": [
    {
     "name": "stdout",
     "output_type": "stream",
     "text": [
      "    Population  Year\n",
      "0   160.000000     0\n",
      "1   220.400000     1\n",
      "2   207.508000     2\n",
      "3   171.014240     3\n",
      "4   148.864067     4\n",
      "5   105.661919     5\n",
      "6    93.276057     6\n",
      "7    82.342646     7\n",
      "8    72.817931     8\n",
      "9    64.427740     9\n",
      "10   45.608399    10\n",
      "11   40.363135    11\n",
      "12   35.724404    12\n",
      "13   31.620109    13\n",
      "14   27.987975    14\n",
      "15   19.818761    15\n",
      "16   17.542665    16\n",
      "17   15.527383    17\n",
      "18   13.743278    18\n",
      "19   12.164189    19\n",
      "20    8.613300    20\n",
      "21    7.623706    21\n",
      "22    6.747799    22\n",
      "23    5.972530    23\n",
      "24    5.286334    24\n",
      "25    3.743181    25\n",
      "26    3.313120    26\n",
      "27    2.932469    27\n",
      "28    2.595552    28\n",
      "29    2.297344    29\n",
      "30    1.626718    30\n",
      "31    1.439821    31\n",
      "32    1.274397    32\n"
     ]
    },
    {
     "data": {
      "text/plain": [
       "[Text(0.5, 1.0, 'Ex-situ Bobcat Population with Catastrophes')]"
      ]
     },
     "execution_count": 359,
     "metadata": {},
     "output_type": "execute_result"
    },
    {
     "data": {
      "image/png": "[encoded data removed]",
      "text/plain": [
       "<Figure size 432x288 with 1 Axes>"
      ]
     },
     "metadata": {
      "needs_background": "light"
     },
     "output_type": "display_data"
    }
   ],
   "source": [
    "def growth_extended_catastrophe(t0_population = default_t0_population, leslie_matrix = default_leslie_matrix, number_of_years = default_number_of_years, catastrophie_matrix = default_catastrophie_matrix):\n",
    "    nth_population_extended = np.zeros(number_of_years+1)\n",
    "    nth_population_extended[0] = np.sum(t0_population)\n",
    "    current_population = t0_population\n",
    "    nth_year = np.arange(number_of_years+1)\n",
    "    for i in range(1, number_of_years+1):\n",
    "        if (i % 5 == 0):\n",
    "            current_population = leslie_matrix.dot(current_population)\n",
    "            current_population = current_population - catastrophie_matrix.dot(current_population)\n",
    "            nth_population_extended[i] = np.sum(current_population)\n",
    "        else:\n",
    "            current_population = leslie_matrix.dot(current_population)\n",
    "            nth_population_extended[i] = np.sum(current_population)\n",
    "\n",
    "    df = pd.DataFrame({\n",
    "        'Population' : nth_population_extended,\n",
    "        'Year' : nth_year\n",
    "        })\n",
    "\n",
    "    print(df)\n",
    "\n",
    "    return df\n",
    "\n",
    "data_nth_population_extended_ex_situ = growth_extended_catastrophe()\n",
    "\n",
    "sns.scatterplot(data = data_nth_population_extended_ex_situ, x = \"Year\", y = \"Population\").set(title = \"Ex-situ Bobcat Population with Catastrophes\")"
   ]
  },
  {
   "cell_type": "markdown",
   "metadata": {},
   "source": [
    "### In-situ Catastrophe Model"
   ]
  },
  {
   "cell_type": "code",
   "execution_count": 360,
   "metadata": {},
   "outputs": [
    {
     "name": "stdout",
     "output_type": "stream",
     "text": [
      "      Population  Year\n",
      "0     160.000000     0\n",
      "1     283.400000     1\n",
      "2     364.551000     2\n",
      "3     436.625020     3\n",
      "4     533.537755     4\n",
      "5     527.502769     5\n",
      "6     653.181060     6\n",
      "7     809.441233     7\n",
      "8    1003.848126     8\n",
      "9    1245.549883     9\n",
      "10   1236.678187    10\n",
      "11   1535.057088    11\n",
      "12   1905.585239    12\n",
      "13   2365.663764    13\n",
      "14   2936.902513    14\n",
      "15   2916.908516    15\n",
      "16   3621.356741    16\n",
      "17   4495.779885    17\n",
      "18   5581.219867    18\n",
      "19   6928.712511    19\n",
      "20   6881.253636    20\n",
      "21   8542.661642    21\n",
      "22  10605.200778    22\n",
      "23  13165.719970    23\n",
      "24  16344.452521    24\n",
      "25  16232.527887    25\n",
      "26  20151.712731    26\n",
      "27  25017.146724    27\n",
      "28  31057.292400    28\n",
      "29  38555.772341    29\n",
      "30  38291.749620    30\n",
      "31  47536.918518    31\n",
      "32  59014.242984    32\n"
     ]
    },
    {
     "data": {
      "text/plain": [
       "[Text(0.5, 1.0, 'In-Situ Bobcat Population with Catastrophes')]"
      ]
     },
     "execution_count": 360,
     "metadata": {},
     "output_type": "execute_result"
    },
    {
     "data": {
      "image/png": "[encoded data removed]",
      "text/plain": [
       "<Figure size 432x288 with 1 Axes>"
      ]
     },
     "metadata": {
      "needs_background": "light"
     },
     "output_type": "display_data"
    }
   ],
   "source": [
    "data_nth_population_extended_in_situ = growth_extended_catastrophe(leslie_matrix=leslie_matrix_extended)\n",
    "\n",
    "sns.scatterplot(data = data_nth_population_extended_in_situ, x = \"Year\", y = \"Population\").set(title = \"In-Situ Bobcat Population with Catastrophes\")"
   ]
  },
  {
   "cell_type": "markdown",
   "metadata": {},
   "source": [
    "### Ex-situ Migration Model"
   ]
  },
  {
   "cell_type": "code",
   "execution_count": 361,
   "metadata": {},
   "outputs": [
    {
     "name": "stdout",
     "output_type": "stream",
     "text": [
      "    Population  Year\n",
      "0   160.000000     0\n",
      "1   173.354400     1\n",
      "2   132.217021     2\n",
      "3    94.741523     3\n",
      "4    74.882629     4\n",
      "5    62.966724     5\n",
      "6    55.270018     6\n",
      "7    50.380485     7\n",
      "8    47.285875     8\n",
      "9    45.318029     9\n",
      "10   44.064838    10\n",
      "11   43.266700    11\n",
      "12   42.758249    12\n",
      "13   42.434273    13\n",
      "14   42.227818    14\n",
      "15   42.096247    15\n",
      "16   42.012396    16\n",
      "17   41.958953    17\n",
      "18   41.924892    18\n",
      "19   41.903187    19\n",
      "20   41.889355    20\n",
      "21   41.880540    21\n",
      "22   41.874922    22\n",
      "23   41.871342    23\n",
      "24   41.869061    24\n",
      "25   41.867607    25\n",
      "26   41.866680    26\n",
      "27   41.866090    27\n",
      "28   41.865713    28\n",
      "29   41.865474    29\n",
      "30   41.865321    30\n",
      "31   41.865223    31\n",
      "32   41.865161    32\n"
     ]
    },
    {
     "data": {
      "text/plain": [
       "[Text(0.5, 1.0, 'Ex-situ Bobcat Population with Migrations')]"
      ]
     },
     "execution_count": 361,
     "metadata": {},
     "output_type": "execute_result"
    },
    {
     "data": {
      "image/png": "[encoded data removed]",
      "text/plain": [
       "<Figure size 432x288 with 1 Axes>"
      ]
     },
     "metadata": {
      "needs_background": "light"
     },
     "output_type": "display_data"
    }
   ],
   "source": [
    "def growth_extended_migration(t0_population = default_t0_population, leslie_matrix = default_leslie_matrix, number_of_years = default_number_of_years, catastrophie_matrix = default_catastrophie_matrix):\n",
    "    nth_population_extended = np.zeros(number_of_years+1)\n",
    "    nth_population_extended[0] = np.sum(t0_population)\n",
    "    current_population = t0_population\n",
    "    nth_year = np.arange(number_of_years+1)\n",
    "    for i in range(1, number_of_years+1):\n",
    "        current_population = current_population + np.array([7, 7, 7, 0, 0, 0, 0, 0, 0, 0, 0, 0, 0, 0, 0, 0])\n",
    "        current_population = leslie_matrix.dot(current_population)\n",
    "        current_population = current_population - current_population*0.2\n",
    "        nth_population_extended[i] = np.sum(current_population)\n",
    "\n",
    "    df = pd.DataFrame({\n",
    "        'Population' : nth_population_extended,\n",
    "        'Year' : nth_year\n",
    "        })\n",
    "\n",
    "    print(df)\n",
    "\n",
    "    return df\n",
    "\n",
    "data_nth_population_extended_ex_situ = growth_extended_migration()\n",
    "\n",
    "sns.scatterplot(data = data_nth_population_extended_ex_situ, x = \"Year\", y = \"Population\").set(title = \"Ex-situ Bobcat Population with Migrations\")"
   ]
  },
  {
   "cell_type": "markdown",
   "metadata": {},
   "source": [
    "### In-situ Migration Model"
   ]
  },
  {
   "cell_type": "code",
   "execution_count": 362,
   "metadata": {},
   "outputs": [
    {
     "name": "stdout",
     "output_type": "stream",
     "text": [
      "    Population  Year\n",
      "0   160.000000     0\n",
      "1   225.316800     1\n",
      "2   230.406394     2\n",
      "3   222.345913     3\n",
      "4   218.736944     4\n",
      "5   217.220547     5\n",
      "6   216.152898     6\n",
      "7   215.311520     7\n",
      "8   214.648429     8\n",
      "9   214.105379     9\n",
      "10  213.643849    10\n",
      "11  213.243161    11\n",
      "12  212.891119    12\n",
      "13  212.579589    13\n",
      "14  212.302145    14\n",
      "15  212.054385    15\n",
      "16  211.833187    16\n",
      "17  211.634198    17\n",
      "18  211.455632    18\n",
      "19  211.295990    19\n",
      "20  211.153398    20\n",
      "21  211.025978    21\n",
      "22  210.912088    22\n",
      "23  210.810292    23\n",
      "24  210.719304    24\n",
      "25  210.637977    25\n",
      "26  210.565284    26\n",
      "27  210.500309    27\n",
      "28  210.442231    28\n",
      "29  210.390320    29\n",
      "30  210.343919    30\n",
      "31  210.302445    31\n",
      "32  210.265373    32\n"
     ]
    },
    {
     "data": {
      "text/plain": [
       "[Text(0.5, 1.0, 'In-situ Bobcat Population with Migrations')]"
      ]
     },
     "execution_count": 362,
     "metadata": {},
     "output_type": "execute_result"
    },
    {
     "data": {
      "image/png": "[encoded data removed]",
      "text/plain": [
       "<Figure size 432x288 with 1 Axes>"
      ]
     },
     "metadata": {
      "needs_background": "light"
     },
     "output_type": "display_data"
    }
   ],
   "source": [
    "data_nth_population_extended_ex_situ = growth_extended_migration(leslie_matrix=leslie_matrix_extended)\n",
    "\n",
    "sns.scatterplot(data = data_nth_population_extended_ex_situ, x = \"Year\", y = \"Population\").set(title = \"In-situ Bobcat Population with Migrations\")"
   ]
  },
  {
   "cell_type": "markdown",
   "metadata": {},
   "source": [
    "## Stochastic Model"
   ]
  },
  {
   "cell_type": "code",
   "execution_count": 363,
   "metadata": {},
   "outputs": [],
   "source": [
    "# Seed and success values\n",
    "rd.seed(0)\n",
    "default_success_rate_catastrophes = 0.7 # 70% of the times, a catastrophe is successful\n",
    "default_catastrophie_rate = 5 # A catastrophe happens every 5 years"
   ]
  },
  {
   "cell_type": "markdown",
   "metadata": {},
   "source": [
    "### Ex-situ Catastrophe Model"
   ]
  },
  {
   "cell_type": "code",
   "execution_count": 364,
   "metadata": {},
   "outputs": [
    {
     "name": "stdout",
     "output_type": "stream",
     "text": [
      "    Population  Year\n",
      "0   160.000000     0\n",
      "1   220.400000     1\n",
      "2   207.508000     2\n",
      "3   171.014240     3\n",
      "4   148.864067     4\n",
      "5   105.661919     5\n",
      "6    93.276057     6\n",
      "7    82.342646     7\n",
      "8    72.817931     8\n",
      "9    64.427740     9\n",
      "10   57.010499    10\n",
      "11   50.453918    11\n",
      "12   44.655506    12\n",
      "13   39.525137    13\n",
      "14   34.984969    14\n",
      "15   24.773451    15\n",
      "16   21.928331    16\n",
      "17   19.409229    17\n",
      "18   17.179097    18\n",
      "19   15.205236    19\n",
      "20   10.766624    20\n",
      "21    9.529632    21\n",
      "22    8.434749    22\n",
      "23    7.465662    23\n",
      "24    6.607917    24\n",
      "25    4.678977    25\n",
      "26    4.141400    26\n",
      "27    3.665586    27\n",
      "28    3.244440    28\n",
      "29    2.871680    29\n",
      "30    2.033398    30\n",
      "31    1.799777    31\n",
      "32    1.592997    32\n"
     ]
    },
    {
     "data": {
      "text/plain": [
       "[Text(0.5, 1.0, 'Ex-situ Bobcat Population with Stochastic Catastrophes')]"
      ]
     },
     "execution_count": 364,
     "metadata": {},
     "output_type": "execute_result"
    },
    {
     "data": {
      "image/png": "[encoded data removed]",
      "text/plain": [
       "<Figure size 432x288 with 1 Axes>"
      ]
     },
     "metadata": {
      "needs_background": "light"
     },
     "output_type": "display_data"
    }
   ],
   "source": [
    "def growth_stochastic_catastrophe(t0_population = default_t0_population, leslie_matrix = default_leslie_matrix, number_of_years = default_number_of_years, catastrophie_matrix = default_catastrophie_matrix, success_rate = default_success_rate_catastrophes, catastrophe_rate = default_catastrophie_rate):\n",
    "    nth_population_stochastic = np.zeros(number_of_years+1)\n",
    "    nth_population_stochastic[0] = np.sum(t0_population)\n",
    "    current_population = t0_population\n",
    "    nth_year = np.arange(number_of_years+1)\n",
    "    for i in range(1, number_of_years+1):\n",
    "        if (i % catastrophe_rate == 0):\n",
    "            current_success = rd.random()\n",
    "            # print(current_success) # Uncomment to see the success rates\n",
    "            if (current_success < success_rate):\n",
    "                current_population = leslie_matrix.dot(current_population)\n",
    "                current_population = current_population - catastrophie_matrix.dot(current_population)\n",
    "                nth_population_stochastic[i] = np.sum(current_population)\n",
    "            else:\n",
    "                current_population = leslie_matrix.dot(current_population)\n",
    "                nth_population_stochastic[i] = np.sum(current_population)\n",
    "                \n",
    "        else:\n",
    "            current_population = leslie_matrix.dot(current_population)\n",
    "            nth_population_stochastic[i] = np.sum(current_population)\n",
    "\n",
    "    df = pd.DataFrame({\n",
    "        'Population' : nth_population_stochastic,\n",
    "        'Year' : nth_year\n",
    "        })\n",
    "\n",
    "    print(df)\n",
    "\n",
    "    return df\n",
    "\n",
    "data_nth_population_extended_ex_situ_stochastic = growth_stochastic_catastrophe()\n",
    "\n",
    "sns.scatterplot(data = data_nth_population_extended_ex_situ_stochastic, x = \"Year\", y = \"Population\").set(title = \"Ex-situ Bobcat Population with Stochastic Catastrophes\")"
   ]
  },
  {
   "cell_type": "markdown",
   "metadata": {},
   "source": [
    "### In-situ Catastrophe Model"
   ]
  },
  {
   "cell_type": "code",
   "execution_count": 365,
   "metadata": {},
   "outputs": [
    {
     "name": "stdout",
     "output_type": "stream",
     "text": [
      "       Population  Year\n",
      "0      160.000000     0\n",
      "1      283.400000     1\n",
      "2      364.551000     2\n",
      "3      436.625020     3\n",
      "4      533.537755     4\n",
      "5      527.502769     5\n",
      "6      653.181060     6\n",
      "7      809.441233     7\n",
      "8     1003.848126     8\n",
      "9     1245.549883     9\n",
      "10    1545.847734    10\n",
      "11    1918.821359    11\n",
      "12    2381.981549    12\n",
      "13    2957.079705    13\n",
      "14    3671.128141    14\n",
      "15    4557.669556    15\n",
      "16    5658.369907    16\n",
      "17    7024.656070    17\n",
      "18    8720.656042    18\n",
      "19   10826.113299    19\n",
      "20   10751.958806    20\n",
      "21   13347.908816    21\n",
      "22   16570.626215    22\n",
      "23   20571.437454    23\n",
      "24   25538.207064    24\n",
      "25   31704.156030    25\n",
      "26   39358.813927    26\n",
      "27   48861.614695    27\n",
      "28   60658.774218    28\n",
      "29   75304.242853    29\n",
      "30   74788.573477    30\n",
      "31   92845.543980    31\n",
      "32  115262.193328    32\n"
     ]
    },
    {
     "data": {
      "text/plain": [
       "[Text(0.5, 1.0, 'In-situ Bobcat Population with Stochastic Catastrophes')]"
      ]
     },
     "execution_count": 365,
     "metadata": {},
     "output_type": "execute_result"
    },
    {
     "data": {
      "image/png": "[encoded data removed]",
      "text/plain": [
       "<Figure size 432x288 with 1 Axes>"
      ]
     },
     "metadata": {
      "needs_background": "light"
     },
     "output_type": "display_data"
    }
   ],
   "source": [
    "data_nth_population_extended_in_situ_stochastic = growth_stochastic_catastrophe(leslie_matrix=leslie_matrix_extended)\n",
    "\n",
    "sns.scatterplot(data = data_nth_population_extended_in_situ_stochastic, x = \"Year\", y = \"Population\").set(title = \"In-situ Bobcat Population with Stochastic Catastrophes\")"
   ]
  },
  {
   "cell_type": "markdown",
   "metadata": {},
   "source": [
    "### "
   ]
  }
 ],
 "metadata": {
  "interpreter": {
   "hash": "131f4927bd4d69df986f31a9cb53e9565e578aa4a87c464df403f960c3c68ad4"
  },
  "kernelspec": {
   "display_name": "Python 3.10.4 64-bit",
   "language": "python",
   "name": "python3"
  },
  "language_info": {
   "codemirror_mode": {
    "name": "ipython",
    "version": 3
   },
   "file_extension": ".py",
   "mimetype": "text/x-python",
   "name": "python",
   "nbconvert_exporter": "python",
   "pygments_lexer": "ipython3",
   "version": "3.10.4"
  },
  "orig_nbformat": 4
 },
 "nbformat": 4,
 "nbformat_minor": 2
}
