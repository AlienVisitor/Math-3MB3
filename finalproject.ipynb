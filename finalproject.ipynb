{
 "cells": [
  {
   "cell_type": "markdown",
   "metadata": {},
   "source": [
    "# Bobcat Population Analysis"
   ]
  },
  {
   "cell_type": "code",
   "execution_count": 39,
   "metadata": {},
   "outputs": [],
   "source": [
    "# Imports\n",
    "import numpy as np\n",
    "import pandas as pd\n",
    "import seaborn as sns\n",
    "import matplotlib.pyplot as plt\n",
    "import numpy.linalg as linalg\n",
    "from numpy import random as rd\n",
    "\n",
    "# Base variables and functions\n",
    "identity_matrix = np.identity(16)\n",
    "default_t0_population = np.array([10, 10, 10, 10, 10, 10, 10, 10, 10, 10, 10, 10, 10, 10, 10, 10])\n",
    "default_number_of_years = 32"
   ]
  },
  {
   "cell_type": "markdown",
   "metadata": {},
   "source": [
    "## Base Model"
   ]
  },
  {
   "cell_type": "code",
   "execution_count": 40,
   "metadata": {},
   "outputs": [
    {
     "name": "stdout",
     "output_type": "stream",
     "text": [
      "    Population  Year\n",
      "0   160.000000     0\n",
      "1   233.200000     1\n",
      "2   229.780000     2\n",
      "3   196.577680     3\n",
      "4   173.715059     4\n",
      "5   154.711636     5\n",
      "6   136.761632     6\n",
      "7   120.824721     7\n",
      "8   106.905764     8\n",
      "9    94.615734     9\n",
      "10   83.736099    10\n",
      "11   74.112109    11\n",
      "12   65.597032    12\n",
      "13   58.068548    13\n",
      "14   51.418291    14\n",
      "15   45.539210    15\n",
      "16   40.337343    16\n",
      "17   35.727043    17\n",
      "18   31.640480    18\n",
      "19   28.020880    19\n",
      "20   24.815916    20\n",
      "21   21.977539    21\n",
      "22   19.463702    22\n",
      "23   17.237403    23\n",
      "24   15.265763    24\n",
      "25   13.519638    25\n",
      "26   11.973233    26\n",
      "27   10.603708    27\n",
      "28    9.390834    28\n",
      "29    8.316691    29\n",
      "30    7.365413    30\n",
      "31    6.522944    31\n",
      "32    5.776838    32\n"
     ]
    },
    {
     "data": {
      "text/plain": [
       "[Text(0.5, 1.0, 'Wild Bobcat Population')]"
      ]
     },
     "execution_count": 40,
     "metadata": {},
     "output_type": "execute_result"
    },
    {
     "data": {
      "image/png": "[encoded data removed]",
      "text/plain": [
       "<Figure size 432x288 with 1 Axes>"
      ]
     },
     "metadata": {
      "needs_background": "light"
     },
     "output_type": "display_data"
    }
   ],
   "source": [
    "default_leslie_matrix = np.array([[0.32, 0.32, 1.01, 1.01, 1.01, 1.01, 1.01, 1.01, 1.01, 1.01, 1.01, 1.01, 1.15, 1.15, 1.15, 1.15],\n",
    "                         [0.38, 0, 0, 0, 0, 0, 0, 0, 0, 0, 0, 0, 0, 0, 0, 0],\n",
    "                         [0, 0.38, 0, 0, 0, 0, 0, 0, 0, 0, 0, 0, 0, 0, 0, 0],\n",
    "                         [0, 0, 0.5, 0, 0, 0, 0, 0, 0, 0, 0, 0, 0, 0, 0, 0],\n",
    "                         [0, 0, 0, 0.5, 0, 0, 0, 0, 0, 0, 0, 0, 0, 0, 0, 0],\n",
    "                         [0, 0, 0, 0, 0.5, 0, 0, 0, 0, 0, 0, 0, 0, 0, 0, 0],\n",
    "                         [0, 0, 0, 0, 0, 0.5, 0, 0, 0, 0, 0, 0, 0, 0, 0, 0],\n",
    "                         [0, 0, 0, 0, 0, 0, 0.5, 0, 0, 0, 0, 0, 0, 0, 0, 0],\n",
    "                         [0, 0, 0, 0, 0, 0, 0, 0.5, 0, 0, 0, 0, 0, 0, 0, 0],\n",
    "                         [0, 0, 0, 0, 0, 0, 0, 0, 0.5, 0, 0, 0, 0, 0, 0, 0],\n",
    "                         [0, 0, 0, 0, 0, 0, 0, 0, 0, 0.5, 0, 0, 0, 0, 0, 0],\n",
    "                         [0, 0, 0, 0, 0, 0, 0, 0, 0, 0, 0.5, 0, 0, 0, 0, 0],\n",
    "                         [0, 0, 0, 0, 0, 0, 0, 0, 0, 0, 0, 0.68, 0, 0, 0, 0],\n",
    "                         [0, 0, 0, 0, 0, 0, 0, 0, 0, 0, 0, 0, 0.68, 0, 0, 0],\n",
    "                         [0, 0, 0, 0, 0, 0, 0, 0, 0, 0, 0, 0, 0, 0.68, 0, 0],\n",
    "                         [0, 0, 0, 0, 0, 0, 0, 0, 0, 0, 0, 0, 0, 0, 0.68, 0]])\n",
    "\n",
    "def growth(t0_population = default_t0_population, leslie_matrix = default_leslie_matrix, number_of_years = default_number_of_years):\n",
    "    nth_population = np.zeros(number_of_years+1)\n",
    "    nth_population[0] = np.sum(t0_population)\n",
    "    nth_year = np.arange(number_of_years+1)\n",
    "    for i in nth_year[1:number_of_years+1]:\n",
    "        nth_population[i] =  np.sum(linalg.matrix_power(leslie_matrix, i).dot(t0_population))\n",
    "\n",
    "    df = pd.DataFrame({\n",
    "        'Population' : nth_population,\n",
    "        'Year' : nth_year\n",
    "        })\n",
    "\n",
    "    print(df)\n",
    "\n",
    "    return df\n",
    "\n",
    "data_nth_population_ex_situ = growth()\n",
    "\n",
    "sns.scatterplot(data = data_nth_population_ex_situ, x = \"Year\", y = \"Population\").set(title = \"Wild Bobcat Population\")"
   ]
  },
  {
   "cell_type": "markdown",
   "metadata": {},
   "source": [
    "## In-situ Model"
   ]
  },
  {
   "cell_type": "code",
   "execution_count": 41,
   "metadata": {},
   "outputs": [
    {
     "name": "stdout",
     "output_type": "stream",
     "text": [
      "       Population  Year\n",
      "0      160.000000     0\n",
      "1      283.400000     1\n",
      "2      364.551000     2\n",
      "3      436.625020     3\n",
      "4      533.537755     4\n",
      "5      659.378462     5\n",
      "6      816.476326     6\n",
      "7     1011.801542     7\n",
      "8     1254.810158     8\n",
      "9     1556.937354     9\n",
      "10    1932.309667    10\n",
      "11    2398.526699    11\n",
      "12    2977.476937    12\n",
      "13    3696.349631    13\n",
      "14    4588.910176    14\n",
      "15    5697.086946    15\n",
      "16    7072.962384    16\n",
      "17    8780.820087    17\n",
      "18   10900.820052    18\n",
      "19   13532.641624    19\n",
      "20   16799.935634    20\n",
      "21   20856.107525    21\n",
      "22   25891.603462    22\n",
      "23   32142.871022    23\n",
      "24   39903.448538    24\n",
      "25   49537.743797    25\n",
      "26   61498.146761    26\n",
      "27   76346.272961    27\n",
      "28   94779.334716    28\n",
      "29  117662.879458    29\n",
      "30  146071.432573    30\n",
      "31  181338.953086    31\n",
      "32  225121.471343    32\n"
     ]
    },
    {
     "data": {
      "text/plain": [
       "[Text(0.5, 1.0, 'In-Situ Bobcat Population')]"
      ]
     },
     "execution_count": 41,
     "metadata": {},
     "output_type": "execute_result"
    },
    {
     "data": {
      "image/png": "[encoded data removed]",
      "text/plain": [
       "<Figure size 432x288 with 1 Axes>"
      ]
     },
     "metadata": {
      "needs_background": "light"
     },
     "output_type": "display_data"
    }
   ],
   "source": [
    "leslie_matrix_extended = np.array([[0.63, 0.63, 1.2, 1.2, 1.2, 1.2, 1.2, 1.2, 1.2, 1.2, 1.2, 1.2, 1.2, 1.2, 1.2, 1.2],\n",
    "                         [0.34, 0, 0, 0, 0, 0, 0, 0, 0, 0, 0, 0, 0, 0, 0, 0],\n",
    "                         [0, 0.71, 0, 0, 0, 0, 0, 0, 0, 0, 0, 0, 0, 0, 0, 0],\n",
    "                         [0, 0, 0.71, 0, 0, 0, 0, 0, 0, 0, 0, 0, 0, 0, 0, 0],\n",
    "                         [0, 0, 0, 0.71, 0, 0, 0, 0, 0, 0, 0, 0, 0, 0, 0, 0],\n",
    "                         [0, 0, 0, 0, 0.71, 0, 0, 0, 0, 0, 0, 0, 0, 0, 0, 0],\n",
    "                         [0, 0, 0, 0, 0, 0.71, 0, 0, 0, 0, 0, 0, 0, 0, 0, 0],\n",
    "                         [0, 0, 0, 0, 0, 0, 0.71, 0, 0, 0, 0, 0, 0, 0, 0, 0],\n",
    "                         [0, 0, 0, 0, 0, 0, 0, 0.71, 0, 0, 0, 0, 0, 0, 0, 0],\n",
    "                         [0, 0, 0, 0, 0, 0, 0, 0, 0.71, 0, 0, 0, 0, 0, 0, 0],\n",
    "                         [0, 0, 0, 0, 0, 0, 0, 0, 0, 0.71, 0, 0, 0, 0, 0, 0],\n",
    "                         [0, 0, 0, 0, 0, 0, 0, 0, 0, 0, 0.71, 0, 0, 0, 0, 0],\n",
    "                         [0, 0, 0, 0, 0, 0, 0, 0, 0, 0, 0, 0.71, 0, 0, 0, 0],\n",
    "                         [0, 0, 0, 0, 0, 0, 0, 0, 0, 0, 0, 0, 0.71, 0, 0, 0],\n",
    "                         [0, 0, 0, 0, 0, 0, 0, 0, 0, 0, 0, 0, 0, 0.71, 0, 0],\n",
    "                         [0, 0, 0, 0, 0, 0, 0, 0, 0, 0, 0, 0, 0, 0, 0.71, 0]])\n",
    "\n",
    "data_nth_population_in_situ = growth(leslie_matrix = leslie_matrix_extended)\n",
    "\n",
    "sns.scatterplot(data = data_nth_population_in_situ, x = \"Year\", y = \"Population\").set(title = \"In-Situ Bobcat Population\")"
   ]
  },
  {
   "cell_type": "markdown",
   "metadata": {},
   "source": [
    "## Extended Model"
   ]
  },
  {
   "cell_type": "code",
   "execution_count": 42,
   "metadata": {},
   "outputs": [
    {
     "name": "stdout",
     "output_type": "stream",
     "text": [
      "    Population  Year\n",
      "0   160.000000     0\n",
      "1   233.200000     1\n",
      "2   229.780000     2\n",
      "3   196.577680     3\n",
      "4   173.715059     4\n",
      "5   119.968624     5\n",
      "6   105.819305     6\n",
      "7    93.472394     7\n",
      "8    82.740819     8\n",
      "9    73.234582     9\n",
      "10   50.166036    10\n",
      "11   44.402299    11\n",
      "12   39.301632    12\n",
      "13   34.794220    13\n",
      "14   30.814753    14\n",
      "15   21.131685    15\n",
      "16   18.719463    16\n",
      "17   16.577997    17\n",
      "18   14.680421    18\n",
      "19   13.001139    19\n",
      "20    8.914201    20\n",
      "21    7.894486    21\n",
      "22    6.991447    22\n",
      "23    6.191774    23\n",
      "24    5.483554    24\n",
      "25    3.759619    25\n",
      "26    3.329585    26\n",
      "27    2.948740    27\n",
      "28    2.611458    28\n",
      "29    2.312755    29\n",
      "30    1.585667    30\n",
      "31    1.404295    31\n",
      "32    1.243670    32\n"
     ]
    },
    {
     "data": {
      "text/plain": [
       "[Text(0.5, 1.0, 'In-Situ Bobcat Population')]"
      ]
     },
     "execution_count": 42,
     "metadata": {},
     "output_type": "execute_result"
    },
    {
     "data": {
      "image/png": "[encoded data removed]",
      "text/plain": [
       "<Figure size 432x288 with 1 Axes>"
      ]
     },
     "metadata": {
      "needs_background": "light"
     },
     "output_type": "display_data"
    }
   ],
   "source": [
    "default_catastrophie_matrix = np.identity(16)\n",
    "for i in range(0,16):\n",
    "    default_catastrophie_matrix[i][i] = 0.2\n",
    "\n",
    "def growth_extended(t0_population = default_t0_population, leslie_matrix = default_leslie_matrix, number_of_years = default_number_of_years, catastrophie_matrix = default_catastrophie_matrix):\n",
    "    nth_population_extended = np.zeros(number_of_years+1)\n",
    "    nth_population_extended[0] = np.sum(t0_population)\n",
    "    current_population = t0_population\n",
    "    nth_year = np.arange(number_of_years+1)\n",
    "    for i in range(1, number_of_years+1):\n",
    "        if (i % 5 == 0):\n",
    "            nth_population_extended[i] = np.sum(leslie_matrix.dot(current_population) - catastrophie_matrix.dot(current_population))\n",
    "            current_population = leslie_matrix.dot(current_population) - catastrophie_matrix.dot(current_population)\n",
    "        else:\n",
    "            nth_population_extended[i] = np.sum(leslie_matrix.dot(current_population))\n",
    "            current_population = leslie_matrix.dot(current_population)\n",
    "\n",
    "\n",
    "    df = pd.DataFrame({\n",
    "        'Population' : nth_population_extended,\n",
    "        'Year' : nth_year\n",
    "        })\n",
    "\n",
    "    print(df)\n",
    "\n",
    "    return df\n",
    "\n",
    "data_nth_population_extended_ex_situ = growth_extended()\n",
    "\n",
    "sns.scatterplot(data = data_nth_population_extended_ex_situ, x = \"Year\", y = \"Population\").set(title = \"In-Situ Bobcat Population\")"
   ]
  },
  {
   "cell_type": "code",
   "execution_count": 43,
   "metadata": {},
   "outputs": [
    {
     "name": "stdout",
     "output_type": "stream",
     "text": [
      "      Population  Year\n",
      "0     160.000000     0\n",
      "1     283.400000     1\n",
      "2     364.551000     2\n",
      "3     436.625020     3\n",
      "4     533.537755     4\n",
      "5     552.670911     5\n",
      "6     684.600633     6\n",
      "7     848.506276     7\n",
      "8    1052.449850     8\n",
      "9    1305.975322     9\n",
      "10   1359.727132    10\n",
      "11   1687.880327    11\n",
      "12   2095.358644    12\n",
      "13   2601.299925    13\n",
      "14   3229.469401    14\n",
      "15   3363.482980    15\n",
      "16   4175.808641    16\n",
      "17   5183.981809    17\n",
      "18   6435.506790    18\n",
      "19   7989.264304    19\n",
      "20   8320.349644    20\n",
      "21  10329.216078    21\n",
      "22  12823.098774    22\n",
      "23  15919.108345    23\n",
      "24  19762.621007    24\n",
      "25  20581.588272    25\n",
      "26  25550.811571    26\n",
      "27  31719.805491    27\n",
      "28  39378.242825    28\n",
      "29  48885.735032    29\n",
      "30  50911.571255    30\n",
      "31  63203.672643    31\n",
      "32  78463.581541    32\n"
     ]
    },
    {
     "data": {
      "text/plain": [
       "[Text(0.5, 1.0, 'In-Situ Bobcat Population')]"
      ]
     },
     "execution_count": 43,
     "metadata": {},
     "output_type": "execute_result"
    },
    {
     "data": {
      "image/png": "[encoded data removed]",
      "text/plain": [
       "<Figure size 432x288 with 1 Axes>"
      ]
     },
     "metadata": {
      "needs_background": "light"
     },
     "output_type": "display_data"
    }
   ],
   "source": [
    "data_nth_population_extended_in_situ = growth_extended(leslie_matrix=leslie_matrix_extended)\n",
    "\n",
    "sns.scatterplot(data = data_nth_population_extended_in_situ, x = \"Year\", y = \"Population\").set(title = \"In-Situ Bobcat Population\")"
   ]
  }
 ],
 "metadata": {
  "interpreter": {
   "hash": "131f4927bd4d69df986f31a9cb53e9565e578aa4a87c464df403f960c3c68ad4"
  },
  "kernelspec": {
   "display_name": "Python 3.10.4 64-bit",
   "language": "python",
   "name": "python3"
  },
  "language_info": {
   "codemirror_mode": {
    "name": "ipython",
    "version": 3
   },
   "file_extension": ".py",
   "mimetype": "text/x-python",
   "name": "python",
   "nbconvert_exporter": "python",
   "pygments_lexer": "ipython3",
   "version": "3.10.4"
  },
  "orig_nbformat": 4
 },
 "nbformat": 4,
 "nbformat_minor": 2
}
