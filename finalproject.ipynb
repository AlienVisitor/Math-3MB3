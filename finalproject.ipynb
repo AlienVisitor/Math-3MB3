{
 "cells": [
  {
   "cell_type": "markdown",
   "metadata": {},
   "source": [
    "# Bobcat Population Analysis"
   ]
  },
  {
   "cell_type": "code",
   "execution_count": 15,
   "metadata": {},
   "outputs": [],
   "source": [
    "# Imports\n",
    "import numpy as np\n",
    "import pandas as pd\n",
    "import seaborn as sns\n",
    "import matplotlib.pyplot as plt\n",
    "import numpy.linalg as linalg\n",
    "from numpy import random as rd\n",
    "\n",
    "# Base variables and functions\n",
    "identity_matrix = np.identity(16)\n",
    "default_t0_population = np.array([10, 10, 10, 10, 10, 10, 10, 10, 10, 10, 10, 10, 10, 10, 10, 10])\n",
    "default_number_of_years = 32"
   ]
  },
  {
   "cell_type": "markdown",
   "metadata": {},
   "source": [
    "## Base Model"
   ]
  },
  {
   "cell_type": "code",
   "execution_count": 16,
   "metadata": {},
   "outputs": [
    {
     "name": "stdout",
     "output_type": "stream",
     "text": [
      "    Year    Population\n",
      "0      0    160.000000\n",
      "1      1    271.400000\n",
      "2      2    332.848000\n",
      "3      3    379.687520\n",
      "4      4    441.904672\n",
      "5      5    520.277415\n",
      "6      6    613.780034\n",
      "7      7    724.673710\n",
      "8      8    856.271729\n",
      "9      9   1012.274850\n",
      "10    10   1197.023233\n",
      "11    11   1415.702245\n",
      "12    12   1674.476896\n",
      "13    13   1980.652953\n",
      "14    14   2342.881055\n",
      "15    15   2771.400815\n",
      "16    16   3278.340586\n",
      "17    17   3877.868411\n",
      "18    18   4586.924282\n",
      "19    19   5425.618838\n",
      "20    20   6417.690314\n",
      "21    21   7591.173215\n",
      "22    22   8979.230210\n",
      "23    23  10621.096216\n",
      "24    24  12563.181400\n",
      "25    25  14860.381196\n",
      "26    26  17577.628610\n",
      "27    27  20791.729941\n",
      "28    28  24593.535737\n",
      "29    29  29090.508752\n",
      "30    30  34409.761507\n",
      "31    31  40701.649282\n",
      "32    32  48144.020092\n"
     ]
    },
    {
     "data": {
      "text/plain": [
       "[Text(0.5, 1.0, 'Wild Bobcat Population')]"
      ]
     },
     "execution_count": 16,
     "metadata": {},
     "output_type": "execute_result"
    },
    {
     "data": {
      "image/png": "[encoded data removed]",
      "text/plain": [
       "<Figure size 432x288 with 1 Axes>"
      ]
     },
     "metadata": {
      "needs_background": "light"
     },
     "output_type": "display_data"
    }
   ],
   "source": [
    "default_leslie_matrix = np.array([[0.6, 0.6, 1.15, 1.15, 1.15, 1.15, 1.15, 1.15, 1.15, 1.15, 1.15, 1.15, 1.15, 1.15, 1.15, 1.15],\n",
    "                         [0.32, 0, 0, 0, 0, 0, 0, 0, 0, 0, 0, 0, 0, 0, 0, 0],\n",
    "                         [0, 0.68, 0, 0, 0, 0, 0, 0, 0, 0, 0, 0, 0, 0, 0, 0],\n",
    "                         [0, 0, 0.68, 0, 0, 0, 0, 0, 0, 0, 0, 0, 0, 0, 0, 0],\n",
    "                         [0, 0, 0, 0.68, 0, 0, 0, 0, 0, 0, 0, 0, 0, 0, 0, 0],\n",
    "                         [0, 0, 0, 0, 0.68, 0, 0, 0, 0, 0, 0, 0, 0, 0, 0, 0],\n",
    "                         [0, 0, 0, 0, 0, 0.68, 0, 0, 0, 0, 0, 0, 0, 0, 0, 0],\n",
    "                         [0, 0, 0, 0, 0, 0, 0.68, 0, 0, 0, 0, 0, 0, 0, 0, 0],\n",
    "                         [0, 0, 0, 0, 0, 0, 0, 0.68, 0, 0, 0, 0, 0, 0, 0, 0],\n",
    "                         [0, 0, 0, 0, 0, 0, 0, 0, 0.68, 0, 0, 0, 0, 0, 0, 0],\n",
    "                         [0, 0, 0, 0, 0, 0, 0, 0, 0, 0.68, 0, 0, 0, 0, 0, 0],\n",
    "                         [0, 0, 0, 0, 0, 0, 0, 0, 0, 0, 0.68, 0, 0, 0, 0, 0],\n",
    "                         [0, 0, 0, 0, 0, 0, 0, 0, 0, 0, 0, 0.68, 0, 0, 0, 0],\n",
    "                         [0, 0, 0, 0, 0, 0, 0, 0, 0, 0, 0, 0, 0.68, 0, 0, 0],\n",
    "                         [0, 0, 0, 0, 0, 0, 0, 0, 0, 0, 0, 0, 0, 0.68, 0, 0],\n",
    "                         [0, 0, 0, 0, 0, 0, 0, 0, 0, 0, 0, 0, 0, 0, 0.68, 0]])\n",
    "\n",
    "def growth(t0_population = default_t0_population, leslie_matrix = default_leslie_matrix, number_of_years = default_number_of_years):\n",
    "    nth_population = np.zeros(number_of_years+1)\n",
    "    nth_population[0] = np.sum(t0_population)\n",
    "    nth_year = np.arange(number_of_years+1)\n",
    "    for i in nth_year[1:number_of_years+1]:\n",
    "        nth_population[i] =  np.sum(linalg.matrix_power(leslie_matrix, i).dot(t0_population))\n",
    "\n",
    "    df = pd.DataFrame({\n",
    "        'Year' : nth_year,\n",
    "        'Population' : nth_population\n",
    "        })\n",
    "\n",
    "    print(df)\n",
    "\n",
    "    return df\n",
    "\n",
    "data_nth_population = growth()\n",
    "\n",
    "sns.scatterplot(data = data_nth_population, x = \"Population\", y = \"Year\").set(title = \"Wild Bobcat Population\")"
   ]
  },
  {
   "cell_type": "markdown",
   "metadata": {},
   "source": [
    "## In-situ Model"
   ]
  },
  {
   "cell_type": "code",
   "execution_count": 17,
   "metadata": {},
   "outputs": [
    {
     "name": "stdout",
     "output_type": "stream",
     "text": [
      "    Year     Population\n",
      "0      0     160.000000\n",
      "1      1     283.400000\n",
      "2      2     364.551000\n",
      "3      3     436.625020\n",
      "4      4     533.537755\n",
      "5      5     659.378462\n",
      "6      6     816.476326\n",
      "7      7    1011.801542\n",
      "8      8    1254.810158\n",
      "9      9    1556.937354\n",
      "10    10    1932.309667\n",
      "11    11    2398.526699\n",
      "12    12    2977.476937\n",
      "13    13    3696.349631\n",
      "14    14    4588.910176\n",
      "15    15    5697.086946\n",
      "16    16    7072.962384\n",
      "17    17    8780.820087\n",
      "18    18   10900.820052\n",
      "19    19   13532.641624\n",
      "20    20   16799.935634\n",
      "21    21   20856.107525\n",
      "22    22   25891.603462\n",
      "23    23   32142.871022\n",
      "24    24   39903.448538\n",
      "25    25   49537.743797\n",
      "26    26   61498.146761\n",
      "27    27   76346.272961\n",
      "28    28   94779.334716\n",
      "29    29  117662.879458\n",
      "30    30  146071.432573\n",
      "31    31  181338.953086\n",
      "32    32  225121.471343\n"
     ]
    },
    {
     "data": {
      "text/plain": [
       "[Text(0.5, 1.0, 'In-Situ Bobcat Population')]"
      ]
     },
     "execution_count": 17,
     "metadata": {},
     "output_type": "execute_result"
    },
    {
     "data": {
      "image/png": "[encoded data removed]",
      "text/plain": [
       "<Figure size 432x288 with 1 Axes>"
      ]
     },
     "metadata": {
      "needs_background": "light"
     },
     "output_type": "display_data"
    }
   ],
   "source": [
    "leslie_matrix_extended = np.array([[0.63, 0.63, 1.2, 1.2, 1.2, 1.2, 1.2, 1.2, 1.2, 1.2, 1.2, 1.2, 1.2, 1.2, 1.2, 1.2],\n",
    "                         [0.34, 0, 0, 0, 0, 0, 0, 0, 0, 0, 0, 0, 0, 0, 0, 0],\n",
    "                         [0, 0.71, 0, 0, 0, 0, 0, 0, 0, 0, 0, 0, 0, 0, 0, 0],\n",
    "                         [0, 0, 0.71, 0, 0, 0, 0, 0, 0, 0, 0, 0, 0, 0, 0, 0],\n",
    "                         [0, 0, 0, 0.71, 0, 0, 0, 0, 0, 0, 0, 0, 0, 0, 0, 0],\n",
    "                         [0, 0, 0, 0, 0.71, 0, 0, 0, 0, 0, 0, 0, 0, 0, 0, 0],\n",
    "                         [0, 0, 0, 0, 0, 0.71, 0, 0, 0, 0, 0, 0, 0, 0, 0, 0],\n",
    "                         [0, 0, 0, 0, 0, 0, 0.71, 0, 0, 0, 0, 0, 0, 0, 0, 0],\n",
    "                         [0, 0, 0, 0, 0, 0, 0, 0.71, 0, 0, 0, 0, 0, 0, 0, 0],\n",
    "                         [0, 0, 0, 0, 0, 0, 0, 0, 0.71, 0, 0, 0, 0, 0, 0, 0],\n",
    "                         [0, 0, 0, 0, 0, 0, 0, 0, 0, 0.71, 0, 0, 0, 0, 0, 0],\n",
    "                         [0, 0, 0, 0, 0, 0, 0, 0, 0, 0, 0.71, 0, 0, 0, 0, 0],\n",
    "                         [0, 0, 0, 0, 0, 0, 0, 0, 0, 0, 0, 0.71, 0, 0, 0, 0],\n",
    "                         [0, 0, 0, 0, 0, 0, 0, 0, 0, 0, 0, 0, 0.71, 0, 0, 0],\n",
    "                         [0, 0, 0, 0, 0, 0, 0, 0, 0, 0, 0, 0, 0, 0.71, 0, 0],\n",
    "                         [0, 0, 0, 0, 0, 0, 0, 0, 0, 0, 0, 0, 0, 0, 0.71, 0]])\n",
    "\n",
    "data_nth_population_extended = growth(leslie_matrix = leslie_matrix_extended)\n",
    "\n",
    "sns.scatterplot(data = data_nth_population_extended, x = \"Population\", y = \"Year\").set(title = \"In-Situ Bobcat Population\")"
   ]
  },
  {
   "cell_type": "markdown",
   "metadata": {},
   "source": [
    "## Extended Model"
   ]
  },
  {
   "cell_type": "code",
   "execution_count": 18,
   "metadata": {},
   "outputs": [],
   "source": [
    "default_catastrophie_matrix = np.identity(16)\n",
    "for i in range(0,16):\n",
    "    default_catastrophie_matrix[i][i] = 0.1\n",
    "\n",
    "def growth_extended(t0_population = default_t0_population, leslie_matrix = default_leslie_matrix, number_of_years = default_number_of_years, catastrophie_matrix = default_catastrophie_matrix):\n",
    "    \n",
    "    return"
   ]
  }
 ],
 "metadata": {
  "interpreter": {
   "hash": "131f4927bd4d69df986f31a9cb53e9565e578aa4a87c464df403f960c3c68ad4"
  },
  "kernelspec": {
   "display_name": "Python 3.10.4 64-bit",
   "language": "python",
   "name": "python3"
  },
  "language_info": {
   "codemirror_mode": {
    "name": "ipython",
    "version": 3
   },
   "file_extension": ".py",
   "mimetype": "text/x-python",
   "name": "python",
   "nbconvert_exporter": "python",
   "pygments_lexer": "ipython3",
   "version": "3.10.4"
  },
  "orig_nbformat": 4
 },
 "nbformat": 4,
 "nbformat_minor": 2
}
